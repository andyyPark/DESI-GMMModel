{
 "cells": [
  {
   "cell_type": "code",
   "execution_count": 89,
   "metadata": {},
   "outputs": [],
   "source": [
    "%matplotlib inline\n",
    "import matplotlib.pyplot as plt\n",
    "import seaborn as sns; sns.set()\n",
    "import numpy as np\n",
    "import pandas as pd\n",
    "\n",
    "from util import GMMModel\n",
    "\n",
    "from keras import layers, models, optimizers\n",
    "\n",
    "import torch.nn\n",
    "import torch.optim\n",
    "import torch.utils.data\n",
    "\n",
    "import os\n",
    "\n",
    "os.environ['KMP_DUPLICATE_LIB_OK']='True'"
   ]
  },
  {
   "cell_type": "markdown",
   "metadata": {},
   "source": [
    "Generate random $f, \\vec{\\mu}, C$ for each Gaussian model, where the model is <br><br>\n",
    "$M_{ij} = \\sum_{k=0}^{n=ngauss} f G_k(\\mu_1, \\mu_2, \\sigma_1, \\sigma_2, \\rho)$ <br><br>\n",
    "Set $f = 1, \\sigma_1 = \\sigma_2 = 0.2, \\rho = 0.5$ for each GMM <br><br>\n",
    "Simulate $D_{ij} = M_{ij} + N_{ij}$, where $N_{ij} \\sim G(\\sigma = W_{ij}^{-0.5})$ "
   ]
  },
  {
   "cell_type": "code",
   "execution_count": 66,
   "metadata": {},
   "outputs": [],
   "source": [
    "def data_sample(x1, x2, gen, ngauss=1, n=1000):\n",
    "    \n",
    "    x1_edges, x2_edges = np.arange(0, x1), np.arange(0, x2)\n",
    "\n",
    "    x1_mid = len(x1_edges) // 2\n",
    "    x2_mid = len(x2_edges) // 2\n",
    "    \n",
    "    GMM = GMMModel(x1_edges, x2_edges)\n",
    "    \n",
    "    data_shape = (n, ) + (len(x1_edges)-1, len(x2_edges)-1)\n",
    "    params_shape = (n, 2*ngauss) \n",
    "    \n",
    "    data = np.zeros(shape=data_shape)\n",
    "    params = np.zeros(shape=params_shape)\n",
    "    \n",
    "    for i in range(n):\n",
    "        for gauss in range(ngauss):\n",
    "              \n",
    "            f = 1\n",
    "            sigma1, sigma2, rho = 0.2, 0.2, 0.5\n",
    "\n",
    "            mu1 = gen.uniform(low=x1_edges[x1_mid-15], high=x1_edges[x1_mid+15])\n",
    "            mu2 = gen.uniform(low=x2_edges[x2_mid-15], high=x2_edges[x2_mid+15])\n",
    "\n",
    "            gmm_params = np.array([f, mu1, mu2, sigma1, sigma2, rho])\n",
    "            \n",
    "            model = GMM.predict(gmm_params, compute_partials=False)\n",
    "            noise = gen.normal(loc=0.0, scale=0.01, size=(model.shape))\n",
    "            \n",
    "            data[i] += model + noise\n",
    "            \n",
    "            params[i, 2*gauss:2*(gauss+1)] = gmm_params[1:3].reshape(2)\n",
    "        \n",
    "    # Flatten the data\n",
    "    data = data.reshape(n, -1)\n",
    "    \n",
    "    return (data, params)"
   ]
  },
  {
   "cell_type": "markdown",
   "metadata": {},
   "source": [
    "Generate training and testing data"
   ]
  },
  {
   "cell_type": "code",
   "execution_count": 77,
   "metadata": {},
   "outputs": [],
   "source": [
    "N_train, N_test = 15000, 4000\n",
    "gen = np.random.RandomState(seed=123)\n",
    "\n",
    "x_train, y_train = data_sample(41, 41, gen, ngauss=1, n=N_train)\n",
    "x_test, y_test = data_sample(41, 41, gen, ngauss=1, n=N_test)\n",
    "\n",
    "# For Keras\n",
    "x_train_keras, y_train_keras = np.copy(x_train), np.copy(y_train) \n",
    "x_test_keras, y_test_keras = np.copy(x_test), np.copy(y_test) \n",
    "\n",
    "# For torch\n",
    "x_train_torch, y_train_torch = torch.tensor(x_train.astype(np.float32)), torch.tensor(y_train.astype(np.float32)) \n",
    "x_test_torch, y_test_torch = torch.tensor(x_test.astype(np.float32)), torch.tensor(y_test.astype(np.float32)) \n",
    "\n",
    "torch_train_data = torch.utils.data.TensorDataset(x_train_torch, y_train_torch)\n",
    "torch_test_data = torch.utils.data.TensorDataset(x_test_torch, y_test_torch)"
   ]
  },
  {
   "cell_type": "code",
   "execution_count": 52,
   "metadata": {},
   "outputs": [
    {
     "name": "stdout",
     "output_type": "stream",
     "text": [
      "[13.81426606 18.82379326]\n"
     ]
    },
    {
     "data": {
      "image/png": "[encoded data removed]",
      "text/plain": [
       "<Figure size 288x288 with 2 Axes>"
      ]
     },
     "metadata": {},
     "output_type": "display_data"
    }
   ],
   "source": [
    "# Sample image\n",
    "plt.matshow(x_train[10].reshape(40, 40))\n",
    "plt.colorbar()\n",
    "print(y_train[10])"
   ]
  },
  {
   "cell_type": "markdown",
   "metadata": {},
   "source": [
    "Training sample $(D_{ij}, W_{ij}) \\to \\vec{\\mu}$ using Keras"
   ]
  },
  {
   "cell_type": "code",
   "execution_count": 107,
   "metadata": {},
   "outputs": [],
   "source": [
    "class DNN_Keras(models.Sequential):\n",
    "    \n",
    "    def __init__(self, Nin, Nh_l, Pd_l, Nout, learning_rate=0.01):\n",
    "        super(DNN_Keras, self).__init__()\n",
    "        \n",
    "        assert len(Nh_l) == len(Pd_l)\n",
    "        \n",
    "        for h in range(len(Nh_l)):\n",
    "            if h == 0:\n",
    "                self.add(layers.Dense(Nh_l[h], activation='relu', input_shape=(Nin, ), name='Hidden-1'))\n",
    "            else:\n",
    "                self.add(layers.Dense(Nh_l[h], activation='relu', name='Hidden-'+str(h+1)))\n",
    "            self.add(layers.Dropout(Pd_l[h]))\n",
    "        \n",
    "        self.add(layers.Dense(Nout))\n",
    "        \n",
    "        self.compile(loss='mse', optimizer=optimizers.Adam(lr=learning_rate))\n",
    "        \n",
    "def learn_keras(model, n_epochs=100, batch_size=200, validation_split=0.25):\n",
    "    history = model.fit(x_train_keras, y_train_keras, epochs=n_epochs, batch_size=batch_size,\n",
    "                        validation_split=validation_split, verbose=2, shuffle=True)\n",
    "    performance = model.evaluate(x_test_keras, y_test_keras, batch_size=200)\n",
    "    y_pred_keras = model.predict(x_test_keras)\n",
    "    \n",
    "    return history, performance, y_pred_keras\n",
    "\n",
    "def plot_loss(history):\n",
    "    plt.plot(history.history['loss'], '.', label='Train')\n",
    "    plt.plot(history.history['val_loss'], '.', label='Test')\n",
    "    plt.title('Model Loss')\n",
    "    plt.ylabel('Loss')\n",
    "    plt.xlabel('Epoch')\n",
    "    plt.legend(loc=0)"
   ]
  },
  {
   "cell_type": "markdown",
   "metadata": {},
   "source": [
    "Define NN hyper-parameters"
   ]
  },
  {
   "cell_type": "code",
   "execution_count": 109,
   "metadata": {},
   "outputs": [],
   "source": [
    "Nh_l = [100 for _ in range(4)]\n",
    "Pd_l = [0.05 for _ in range(len(Nh_l))]\n",
    "Nout = y_train_keras.shape[1]\n",
    "\n",
    "nn_keras = DNN_Keras(x_train_keras.shape[1], Nh_l, Pd_l, Nout)"
   ]
  },
  {
   "cell_type": "code",
   "execution_count": 110,
   "metadata": {},
   "outputs": [
    {
     "name": "stdout",
     "output_type": "stream",
     "text": [
      "Train on 11250 samples, validate on 3750 samples\n",
      "Epoch 1/100\n",
      " - 2s - loss: 102.2027 - val_loss: 48.4261\n",
      "Epoch 2/100\n",
      " - 1s - loss: 46.2863 - val_loss: 40.3687\n",
      "Epoch 3/100\n",
      " - 1s - loss: 23.5254 - val_loss: 17.2458\n",
      "Epoch 4/100\n",
      " - 1s - loss: 15.9328 - val_loss: 15.6255\n",
      "Epoch 5/100\n",
      " - 1s - loss: 13.3696 - val_loss: 14.1740\n",
      "Epoch 6/100\n",
      " - 1s - loss: 11.1793 - val_loss: 12.8451\n",
      "Epoch 7/100\n",
      " - 1s - loss: 9.3127 - val_loss: 13.1915\n",
      "Epoch 8/100\n",
      " - 1s - loss: 8.2766 - val_loss: 17.0886\n",
      "Epoch 9/100\n",
      " - 1s - loss: 7.3866 - val_loss: 11.2351\n",
      "Epoch 10/100\n",
      " - 1s - loss: 5.9367 - val_loss: 10.8970\n",
      "Epoch 11/100\n",
      " - 1s - loss: 5.2858 - val_loss: 10.6459\n",
      "Epoch 12/100\n",
      " - 1s - loss: 4.4403 - val_loss: 9.7943\n",
      "Epoch 13/100\n",
      " - 1s - loss: 3.9165 - val_loss: 9.4787\n",
      "Epoch 14/100\n",
      " - 1s - loss: 3.6839 - val_loss: 9.0571\n",
      "Epoch 15/100\n",
      " - 1s - loss: 3.6522 - val_loss: 9.2369\n",
      "Epoch 16/100\n",
      " - 1s - loss: 3.2298 - val_loss: 8.7975\n",
      "Epoch 17/100\n",
      " - 1s - loss: 3.0968 - val_loss: 8.6283\n",
      "Epoch 18/100\n",
      " - 1s - loss: 2.9883 - val_loss: 8.8624\n",
      "Epoch 19/100\n",
      " - 1s - loss: 2.9143 - val_loss: 8.4793\n",
      "Epoch 20/100\n",
      " - 1s - loss: 2.9466 - val_loss: 8.3771\n",
      "Epoch 21/100\n",
      " - 1s - loss: 2.7431 - val_loss: 8.0419\n",
      "Epoch 22/100\n",
      " - 1s - loss: 2.5539 - val_loss: 8.2036\n",
      "Epoch 23/100\n",
      " - 1s - loss: 2.4630 - val_loss: 8.3960\n",
      "Epoch 24/100\n",
      " - 1s - loss: 2.4422 - val_loss: 7.8907\n",
      "Epoch 25/100\n",
      " - 1s - loss: 2.3314 - val_loss: 7.7627\n",
      "Epoch 26/100\n",
      " - 1s - loss: 2.2746 - val_loss: 7.7199\n",
      "Epoch 27/100\n",
      " - 1s - loss: 2.2705 - val_loss: 7.7910\n",
      "Epoch 28/100\n",
      " - 1s - loss: 2.1915 - val_loss: 7.4468\n",
      "Epoch 29/100\n",
      " - 1s - loss: 2.1705 - val_loss: 7.6598\n",
      "Epoch 30/100\n",
      " - 1s - loss: 2.2062 - val_loss: 7.6078\n",
      "Epoch 31/100\n",
      " - 1s - loss: 2.0504 - val_loss: 7.5709\n",
      "Epoch 32/100\n",
      " - 1s - loss: 2.0261 - val_loss: 7.4302\n",
      "Epoch 33/100\n",
      " - 1s - loss: 1.9514 - val_loss: 7.2213\n",
      "Epoch 34/100\n",
      " - 1s - loss: 1.9720 - val_loss: 7.2954\n",
      "Epoch 35/100\n",
      " - 1s - loss: 1.9094 - val_loss: 7.7872\n",
      "Epoch 36/100\n",
      " - 1s - loss: 2.0305 - val_loss: 7.4843\n",
      "Epoch 37/100\n",
      " - 1s - loss: 1.9751 - val_loss: 7.4223\n",
      "Epoch 38/100\n",
      " - 1s - loss: 1.8787 - val_loss: 7.5449\n",
      "Epoch 39/100\n",
      " - 1s - loss: 1.8111 - val_loss: 7.3288\n",
      "Epoch 40/100\n",
      " - 1s - loss: 1.7984 - val_loss: 7.1246\n",
      "Epoch 41/100\n",
      " - 1s - loss: 1.7148 - val_loss: 7.2244\n",
      "Epoch 42/100\n",
      " - 1s - loss: 1.8060 - val_loss: 7.0907\n",
      "Epoch 43/100\n",
      " - 1s - loss: 1.6981 - val_loss: 7.0848\n",
      "Epoch 44/100\n",
      " - 1s - loss: 1.6472 - val_loss: 7.3499\n",
      "Epoch 45/100\n",
      " - 1s - loss: 1.6504 - val_loss: 6.9573\n",
      "Epoch 46/100\n",
      " - 1s - loss: 1.5685 - val_loss: 6.8844\n",
      "Epoch 47/100\n",
      " - 1s - loss: 1.6670 - val_loss: 6.7988\n",
      "Epoch 48/100\n",
      " - 1s - loss: 1.5706 - val_loss: 6.9696\n",
      "Epoch 49/100\n",
      " - 1s - loss: 1.5345 - val_loss: 7.3452\n",
      "Epoch 50/100\n",
      " - 1s - loss: 1.5799 - val_loss: 7.0472\n",
      "Epoch 51/100\n",
      " - 1s - loss: 1.6068 - val_loss: 7.0310\n",
      "Epoch 52/100\n",
      " - 1s - loss: 1.5370 - val_loss: 7.0681\n",
      "Epoch 53/100\n",
      " - 1s - loss: 1.5449 - val_loss: 6.9604\n",
      "Epoch 54/100\n",
      " - 1s - loss: 1.5110 - val_loss: 7.0104\n",
      "Epoch 55/100\n",
      " - 1s - loss: 1.5906 - val_loss: 6.9337\n",
      "Epoch 56/100\n",
      " - 1s - loss: 1.5151 - val_loss: 6.5999\n",
      "Epoch 57/100\n",
      " - 1s - loss: 1.4438 - val_loss: 6.6200\n",
      "Epoch 58/100\n",
      " - 1s - loss: 1.4084 - val_loss: 6.7777\n",
      "Epoch 59/100\n",
      " - 1s - loss: 1.4536 - val_loss: 6.7324\n",
      "Epoch 60/100\n",
      " - 1s - loss: 1.4528 - val_loss: 6.4986\n",
      "Epoch 61/100\n",
      " - 1s - loss: 1.4117 - val_loss: 6.4710\n",
      "Epoch 62/100\n",
      " - 1s - loss: 1.3499 - val_loss: 6.6537\n",
      "Epoch 63/100\n",
      " - 1s - loss: 1.3739 - val_loss: 6.5531\n",
      "Epoch 64/100\n",
      " - 1s - loss: 1.3375 - val_loss: 6.3518\n",
      "Epoch 65/100\n",
      " - 1s - loss: 1.4029 - val_loss: 6.5736\n",
      "Epoch 66/100\n",
      " - 1s - loss: 1.3389 - val_loss: 6.5349\n",
      "Epoch 67/100\n",
      " - 1s - loss: 1.4314 - val_loss: 6.7642\n",
      "Epoch 68/100\n",
      " - 1s - loss: 1.3618 - val_loss: 6.5867\n",
      "Epoch 69/100\n",
      " - 1s - loss: 1.3366 - val_loss: 6.2678\n",
      "Epoch 70/100\n",
      " - 1s - loss: 1.3173 - val_loss: 6.2466\n",
      "Epoch 71/100\n",
      " - 1s - loss: 1.3480 - val_loss: 6.4998\n",
      "Epoch 72/100\n",
      " - 1s - loss: 1.4261 - val_loss: 6.5329\n",
      "Epoch 73/100\n",
      " - 1s - loss: 1.4115 - val_loss: 6.8675\n",
      "Epoch 74/100\n",
      " - 1s - loss: 1.3368 - val_loss: 6.6622\n",
      "Epoch 75/100\n",
      " - 1s - loss: 1.2996 - val_loss: 6.7396\n",
      "Epoch 76/100\n",
      " - 1s - loss: 1.2746 - val_loss: 6.4234\n",
      "Epoch 77/100\n",
      " - 1s - loss: 1.2854 - val_loss: 6.5008\n",
      "Epoch 78/100\n",
      " - 1s - loss: 1.2925 - val_loss: 6.6090\n",
      "Epoch 79/100\n",
      " - 1s - loss: 1.3074 - val_loss: 6.6468\n",
      "Epoch 80/100\n",
      " - 1s - loss: 1.3030 - val_loss: 6.6239\n",
      "Epoch 81/100\n",
      " - 1s - loss: 1.2802 - val_loss: 6.4997\n",
      "Epoch 82/100\n",
      " - 1s - loss: 1.2947 - val_loss: 6.5922\n",
      "Epoch 83/100\n",
      " - 1s - loss: 1.3363 - val_loss: 6.6445\n",
      "Epoch 84/100\n",
      " - 1s - loss: 1.2383 - val_loss: 6.7117\n",
      "Epoch 85/100\n",
      " - 1s - loss: 1.3284 - val_loss: 7.0724\n",
      "Epoch 86/100\n",
      " - 1s - loss: 1.3284 - val_loss: 6.5022\n",
      "Epoch 87/100\n",
      " - 1s - loss: 1.2128 - val_loss: 6.3716\n",
      "Epoch 88/100\n",
      " - 1s - loss: 1.2726 - val_loss: 6.6441\n",
      "Epoch 89/100\n",
      " - 1s - loss: 1.2107 - val_loss: 6.5210\n",
      "Epoch 90/100\n",
      " - 1s - loss: 1.2199 - val_loss: 6.4900\n",
      "Epoch 91/100\n",
      " - 1s - loss: 1.2387 - val_loss: 6.3935\n",
      "Epoch 92/100\n",
      " - 1s - loss: 1.1563 - val_loss: 6.2701\n",
      "Epoch 93/100\n",
      " - 1s - loss: 1.2384 - val_loss: 6.4200\n",
      "Epoch 94/100\n",
      " - 1s - loss: 1.1792 - val_loss: 6.4477\n",
      "Epoch 95/100\n",
      " - 1s - loss: 1.1771 - val_loss: 6.4980\n",
      "Epoch 96/100\n",
      " - 2s - loss: 1.1963 - val_loss: 6.2860\n",
      "Epoch 97/100\n",
      " - 2s - loss: 1.1478 - val_loss: 6.9891\n",
      "Epoch 98/100\n",
      " - 2s - loss: 1.3171 - val_loss: 6.4136\n",
      "Epoch 99/100\n",
      " - 2s - loss: 1.2114 - val_loss: 6.4877\n",
      "Epoch 100/100\n",
      " - 2s - loss: 1.2127 - val_loss: 6.6243\n",
      "4000/4000 [==============================] - 0s 36us/step\n",
      "Test loss -> 7.572831344604492\n"
     ]
    },
    {
     "data": {
      "image/png": "[encoded data removed]",
      "text/plain": [
       "<Figure size 432x288 with 1 Axes>"
      ]
     },
     "metadata": {},
     "output_type": "display_data"
    }
   ],
   "source": [
    "history, performance, y_pred_keras = learn_keras(nn_keras)\n",
    "\n",
    "plot_loss(history)\n",
    "print('Test loss ->', performance)"
   ]
  },
  {
   "cell_type": "markdown",
   "metadata": {},
   "source": [
    "Check predicted $\\vec{\\mu}$."
   ]
  },
  {
   "cell_type": "code",
   "execution_count": 116,
   "metadata": {},
   "outputs": [
    {
     "name": "stdout",
     "output_type": "stream",
     "text": [
      "y_test: [[24.80756372 14.937784  ]\n",
      " [24.03596575 11.38557158]\n",
      " [32.45083346 20.46749441]\n",
      " [26.8216078  15.08134043]\n",
      " [ 8.4824015  34.13528719]] \n",
      "y_pred: [[23.924374 14.511838]\n",
      " [23.674746 12.158217]\n",
      " [15.472945 17.542166]\n",
      " [26.080385 15.463456]\n",
      " [ 9.603871 33.53435 ]]\n"
     ]
    }
   ],
   "source": [
    "print('y_test:', y_test_keras[10:15], '\\ny_pred:', y_pred_keras[10:15])"
   ]
  },
  {
   "cell_type": "markdown",
   "metadata": {},
   "source": [
    "Training sample $(D_{ij}, W_{ij}) \\to \\vec{\\mu}$ using torch"
   ]
  },
  {
   "cell_type": "code",
   "execution_count": 81,
   "metadata": {},
   "outputs": [],
   "source": [
    "class DNN_Torch(torch.nn.Sequential):\n",
    "    \n",
    "    def __init__(self, *n_nodes, activation=torch.nn.ReLU):\n",
    "        super(DNN_Torch, self).__init__()\n",
    "        \n",
    "        n_inputs = n_nodes[:-1]\n",
    "        n_outputs = n_nodes[1:]\n",
    "        \n",
    "        for depth, (n_inp, n_out) in enumerate(zip(n_inputs, n_outputs)):\n",
    "            self.add_module(f'LYR{depth}', torch.nn.Linear(n_inp, n_out))\n",
    "            \n",
    "            if depth < len(n_inputs) - 1:\n",
    "                self.add_module(f'ACT{depth}', activation())\n",
    "            \n",
    "            self.add_module(f'DRP{depth}', torch.nn.Dropout(p=0.05))"
   ]
  },
  {
   "cell_type": "code",
   "execution_count": 103,
   "metadata": {},
   "outputs": [],
   "source": [
    "def learn(model, n_epochs=100, batch_size=200, learning_rate=0.05,\n",
    "          loss_slice=slice(None, None), n_print=1):\n",
    "    \n",
    "    print(f'Model has {np.sum([np.prod(P.shape) for P in model.parameters()])} parameters.')\n",
    "    loader = torch.utils.data.DataLoader(torch_train_data, batch_size=batch_size, shuffle=True)\n",
    "    print(f'Data has {np.prod(loader.dataset.tensors[0].shape)} values.')\n",
    "    \n",
    "    loss_fn = torch.nn.MSELoss()\n",
    "    optimizer = torch.optim.Adam(model.parameters(), lr=learning_rate)\n",
    "    \n",
    "    x_test, y_test = torch_test_data.tensors\n",
    "    train_loss, test_loss = list(), list()\n",
    "    \n",
    "    print_at = np.round((1 + np.arange(n_print)) / n_print * n_epochs).astype(int)\n",
    "    \n",
    "    for epoch in range(n_epochs):\n",
    "        model.train()\n",
    "        \n",
    "        for x_train, y_train in loader:\n",
    "            y_pred = model(x_train)\n",
    "            loss = loss_fn(y_pred[:,loss_slice], y_train[:,loss_slice])\n",
    "            optimizer.zero_grad()\n",
    "            loss.backward()\n",
    "            optimizer.step()\n",
    "            \n",
    "        train_loss.append(float(loss.data))\n",
    "        model.eval()\n",
    "        \n",
    "        y_pred = model(x_test)\n",
    "        test_loss.append(float(loss_fn(y_pred[:,loss_slice], y_test[:,loss_slice]).data))\n",
    "        \n",
    "        if epoch + 1 == print_at[0]:\n",
    "            print(f'EPOCH {epoch + 1:5d}: TRAIN {train_loss[-1]:.5f} TEST {test_loss[-1]:.5f}')\n",
    "            print_at = print_at[1:]\n",
    "            \n",
    "    plt.figure(figsize=(10, 5))\n",
    "    plt.plot(train_loss, '.', label='TRAIN')\n",
    "    plt.plot(test_loss, '.', label='TEST')\n",
    "    plt.xlabel('Number of Epochs')\n",
    "    plt.ylabel('MSE Loss')\n",
    "    plt.yscale('log')\n",
    "    plt.legend()\n",
    "    \n",
    "    return train_loss, test_loss, y_pred.detach()"
   ]
  },
  {
   "cell_type": "code",
   "execution_count": 104,
   "metadata": {},
   "outputs": [
    {
     "name": "stdout",
     "output_type": "stream",
     "text": [
      "Model has 190602 parameters.\n",
      "Data has 24000000 values.\n",
      "EPOCH   100: TRAIN 0.89358 TEST 7.31619\n"
     ]
    },
    {
     "data": {
      "image/png": "[encoded data removed]",
      "text/plain": [
       "<Figure size 720x360 with 1 Axes>"
      ]
     },
     "metadata": {},
     "output_type": "display_data"
    }
   ],
   "source": [
    "torch.manual_seed(123)\n",
    "model = DNN_Torch(x_train_torch.shape[1], 100, 100, 100, 100, y_train.shape[1])\n",
    "train_loss, test_loss, y_pred = learn(model, learning_rate=0.01, n_epochs=100)"
   ]
  },
  {
   "cell_type": "markdown",
   "metadata": {},
   "source": [
    "Check predicted $\\vec{\\mu}$."
   ]
  },
  {
   "cell_type": "code",
   "execution_count": 117,
   "metadata": {},
   "outputs": [
    {
     "name": "stdout",
     "output_type": "stream",
     "text": [
      "y_test: [[10.20845492  9.908487  ]\n",
      " [30.42949011 32.31802876]\n",
      " [25.35141636 26.42553997]\n",
      " [ 7.04683017 10.30685097]\n",
      " [28.44958912 10.6518602 ]] \n",
      "y_pred: [[ 9.2348585 10.364168 ]\n",
      " [29.643213  33.646614 ]\n",
      " [24.338919  21.868567 ]\n",
      " [ 6.763801  11.231928 ]\n",
      " [18.378607  18.296137 ]]\n"
     ]
    }
   ],
   "source": [
    "print('y_test:', y_test[30:35], '\\ny_pred:', y_pred[30:35].numpy())"
   ]
  }
 ],
 "metadata": {
  "kernelspec": {
   "display_name": "Python 3",
   "language": "python",
   "name": "python3"
  },
  "language_info": {
   "codemirror_mode": {
    "name": "ipython",
    "version": 3
   },
   "file_extension": ".py",
   "mimetype": "text/x-python",
   "name": "python",
   "nbconvert_exporter": "python",
   "pygments_lexer": "ipython3",
   "version": "3.7.7"
  }
 },
 "nbformat": 4,
 "nbformat_minor": 2
}
